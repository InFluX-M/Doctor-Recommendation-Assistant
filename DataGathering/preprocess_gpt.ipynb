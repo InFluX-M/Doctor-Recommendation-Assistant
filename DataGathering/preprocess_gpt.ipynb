{
 "cells": [
  {
   "cell_type": "code",
   "execution_count": 17,
   "id": "1a2d58ed-1d0b-44b3-a977-a8d6abb6affa",
   "metadata": {},
   "outputs": [],
   "source": [
    "import pandas as pd\n",
    "import re"
   ]
  },
  {
   "cell_type": "code",
   "execution_count": 33,
   "id": "aad06f94-2869-4ecb-b136-bef4da2742a2",
   "metadata": {},
   "outputs": [],
   "source": [
    "data = pd.read_csv(\"./data/diverse_doctor_requests_gpt.csv\", header=None)"
   ]
  },
  {
   "cell_type": "code",
   "execution_count": 34,
   "id": "3c878104-8702-41f0-b929-44da41474c47",
   "metadata": {},
   "outputs": [
    {
     "data": {
      "text/html": [
       "<div>\n",
       "<style scoped>\n",
       "    .dataframe tbody tr th:only-of-type {\n",
       "        vertical-align: middle;\n",
       "    }\n",
       "\n",
       "    .dataframe tbody tr th {\n",
       "        vertical-align: top;\n",
       "    }\n",
       "\n",
       "    .dataframe thead th {\n",
       "        text-align: right;\n",
       "    }\n",
       "</style>\n",
       "<table border=\"1\" class=\"dataframe\">\n",
       "  <thead>\n",
       "    <tr style=\"text-align: right;\">\n",
       "      <th></th>\n",
       "      <th>0</th>\n",
       "      <th>1</th>\n",
       "    </tr>\n",
       "  </thead>\n",
       "  <tbody>\n",
       "    <tr>\n",
       "      <th>0</th>\n",
       "      <td>سلام</td>\n",
       "      <td>O</td>\n",
       "    </tr>\n",
       "    <tr>\n",
       "      <th>1</th>\n",
       "      <td>دنبال</td>\n",
       "      <td>O</td>\n",
       "    </tr>\n",
       "    <tr>\n",
       "      <th>2</th>\n",
       "      <td>یه</td>\n",
       "      <td>O</td>\n",
       "    </tr>\n",
       "    <tr>\n",
       "      <th>3</th>\n",
       "      <td>دکتر</td>\n",
       "      <td>O</td>\n",
       "    </tr>\n",
       "    <tr>\n",
       "      <th>4</th>\n",
       "      <td>فوق</td>\n",
       "      <td>B-srt</td>\n",
       "    </tr>\n",
       "    <tr>\n",
       "      <th>...</th>\n",
       "      <td>...</td>\n",
       "      <td>...</td>\n",
       "    </tr>\n",
       "    <tr>\n",
       "      <th>328</th>\n",
       "      <td>برای</td>\n",
       "      <td>O</td>\n",
       "    </tr>\n",
       "    <tr>\n",
       "      <th>329</th>\n",
       "      <td>دو</td>\n",
       "      <td>B-apt</td>\n",
       "    </tr>\n",
       "    <tr>\n",
       "      <th>330</th>\n",
       "      <td>روز</td>\n",
       "      <td>I-apt</td>\n",
       "    </tr>\n",
       "    <tr>\n",
       "      <th>331</th>\n",
       "      <td>دیگه</td>\n",
       "      <td>O</td>\n",
       "    </tr>\n",
       "    <tr>\n",
       "      <th>332</th>\n",
       "      <td>بده.</td>\n",
       "      <td>O</td>\n",
       "    </tr>\n",
       "  </tbody>\n",
       "</table>\n",
       "<p>333 rows × 2 columns</p>\n",
       "</div>"
      ],
      "text/plain": [
       "         0      1\n",
       "0     سلام      O\n",
       "1    دنبال      O\n",
       "2       یه      O\n",
       "3     دکتر      O\n",
       "4      فوق  B-srt\n",
       "..     ...    ...\n",
       "328   برای      O\n",
       "329     دو  B-apt\n",
       "330    روز  I-apt\n",
       "331   دیگه      O\n",
       "332   بده.      O\n",
       "\n",
       "[333 rows x 2 columns]"
      ]
     },
     "execution_count": 34,
     "metadata": {},
     "output_type": "execute_result"
    }
   ],
   "source": [
    "data"
   ]
  },
  {
   "cell_type": "code",
   "execution_count": 35,
   "id": "b2507518-bc29-4cca-a94b-9edba1e1d0c2",
   "metadata": {},
   "outputs": [
    {
     "name": "stdout",
     "output_type": "stream",
     "text": [
      "سلام دنبال یه دکتر فوق تخصص ریه داخل بندر انزلی هستم که تجربه بالایی داشته باشه و فردا صبح نوبت بده .\n",
      "O O O O B-srt I-srt B-spy O B-cty I-cty O O B-trt I-trt O O O B-apt I-apt O O O\n",
      "22 22\n",
      "یه متخصص کلیه در ارومیه می‌خوام که تو درمان نارسایی کلیه مهارت داشته باشه و هفته بعد نوبت بده .\n",
      "O B-srt B-spy O B-cty O O O O B-cnd I-cnd B-trt O O O B-apt I-apt O O O\n",
      "20 20\n",
      "لطفاً یه دکتر متخصص غدد توی بروجرد برام پیدا کنید که تو کارش خبره باشه و سریع نوبت بده .\n",
      "O O O B-srt B-spy O B-cty O O O O O O B-trt O O B-apt O O O\n",
      "20 20\n",
      "یه دکتر مغز و اعصاب توی ساری می‌خوام که در درمان صرع تخصص داشته باشه و سه روز دیگه نوبت بده .\n",
      "O O B-spy O B-spy O B-cty O O O O B-cnd O O O O B-apt I-apt O O O O\n",
      "22 22\n",
      "توی زنجان دنبال یک متخصص ارتوپدی می‌گردم که تجربه زیادی داشته باشه و نوبت برای آخر هفته بده .\n",
      "O B-cty O O B-srt B-spy O O B-trt I-trt O O O O O B-apt I-apt O O\n",
      "19 19\n",
      "یه متخصص روماتولوژی در کاشان نیاز دارم که کارش عالی باشه و برای دو هفته بعد نوبت بده .\n",
      "O B-srt B-spy O B-cty O O O O B-trt O O O B-apt I-apt O O O O\n",
      "19 19\n",
      "سلام ،توی قزوین یه متخصص تغذیه لازم دارم که برای کاهش وزن مشاوره بده و ماه آینده وقت داشته باشه .\n",
      "O OO B-cty O B-srt B-spy O O O O B-cnd I-cnd O O O B-apt I-apt O O O O\n",
      "21 21\n",
      "یه متخصص غدد در اردبیل می‌خوام که توی خیابان امام مطب داشته باشه و سریع نوبت بده .\n",
      "O B-srt B-spy O B-cty O O O B-nhd I-nhd O O O O B-apt O O O\n",
      "18 18\n",
      "لطفاً یه متخصص اطفال تو خرم آباد برام پیدا کنید که تجربه کافی در درمان کودکان بیمار داشته باشه و فردا نوبت بده .\n",
      "O O B-srt B-spy O B-cty I-cty O O O O B-trt I-trt O O B-cnd I-cnd O O O B-apt O O O\n",
      "24 24\n",
      "تو بجنورد دنبال یه متخصص زنان هستم که برای بارداری مشاوره بده و نوبت برای هفته آینده داشته باشه .\n",
      "O B-cty O O B-srt B-spy O O O B-cnd O O O O O B-apt I-apt O O O\n",
      "20 20\n",
      "یه دکتر چشم پزشک تو یزد می‌خوام که تجربه زیادی در جراحی چشم داشته باشه و برای آخر هفته نوبت بده .\n",
      "O O B-spy O O B-cty O O B-trt I-trt O B-cnd I-cnd O O O O B-apt I-apt O O O\n",
      "22 22\n",
      "داخل زاهدان دنبال یک متخصص گوش و حلق و بینی می‌گردم که دو هفته بعد نوبت بده .\n",
      "O B-cty O O B-srt B-spy O B-spy O B-spy O O B-apt I-apt O O O O\n",
      "18 18\n",
      "نیاز به یه فوق متخصص پوست و مو توی کرمان دارم که توی خیابان مطهری مطب داشته باشه و فردا عصر نوبت بده .\n",
      "O O O B-srt I-srt B-spy O B-spy O B-cty O O O B-nhd I-nhd O O O O B-apt I-apt O O O\n",
      "24 24\n",
      "سلام ،یه دکتر فلوشیپ زنان در اردکان می‌خوام که تو درمان نازایی مهارت داشته باشه و ماه بعد وقت بده .\n",
      "O OO O B-srt O O B-cty O O O O B-cnd O O O O B-apt I-apt O O O\n",
      "21 21\n",
      "توی سنندج دنبال یه فلوشیپ ریه می‌گردم که مهارت کافی در درمان عفونت‌های شدید داشته باشه و هفته آینده نوبت بده .\n",
      "O B-cty O O B-srt B-spy O O B-trt I-trt O O B-cnd I-cnd O O O B-apt I-apt O O O\n",
      "22 22\n",
      "سلام ،یه متخصص اعصاب و روان تو شهرکرد می‌خوام که خیلی حرفه‌ای باشه و ماه بعد نوبت بده .\n",
      "O OO B-srt B-spy O B-spy O B-cty O O O B-trt O O B-apt I-apt O O O\n",
      "19 19\n",
      "یه دکتر فوق تخصص قلب و عروق تو بوشهر لازم دارم که نوبت برای دو روز دیگه بده .\n",
      "O O B-srt I-srt B-spy O B-spy O B-cty O O O O O B-apt I-apt O O O\n",
      "19 19\n"
     ]
    }
   ],
   "source": [
    "datas = []\n",
    "label, sen = \"\", \"\"\n",
    "for index, d in data.iterrows():\n",
    "    word, tag = d[0], d[1]\n",
    "    word = re.sub(r'(\\S)([!،.,:;?])', r'\\1 \\2', word)\n",
    "    word = re.sub(r'([!.،,:;?])(\\S)', r'\\1 \\2', word)\n",
    "    word = re.sub(r'\\s+', ' ', word)\n",
    "    word = word.strip()\n",
    "    if '.' in word or '?' in word:\n",
    "        sen += ' '.join(word.split())\n",
    "        sen = sen.strip()\n",
    "        label += tag + ' '\n",
    "        label += 'O'\n",
    "        datas.append((sen, label))\n",
    "        print(sen , label, sep = '\\n')\n",
    "        print(len(sen.split()), len(label.split()))\n",
    "        sen, label = \"\", \"\"\n",
    "    elif '،' in word:\n",
    "        sen = sen + ' '.join(word.split())\n",
    "        sen = sen.strip()\n",
    "        label += tag + ' '\n",
    "        label += 'O'\n",
    "    else:\n",
    "        sen += word + ' '\n",
    "        label += tag + ' '"
   ]
  },
  {
   "cell_type": "code",
   "execution_count": 36,
   "id": "1b869369-8938-4669-851c-b6eef5977ec8",
   "metadata": {},
   "outputs": [
    {
     "data": {
      "text/plain": [
       "[('سلام دنبال یه دکتر فوق تخصص ریه داخل بندر انزلی هستم که تجربه بالایی داشته باشه و فردا صبح نوبت بده .',\n",
       "  'O O O O B-srt I-srt B-spy O B-cty I-cty O O B-trt I-trt O O O B-apt I-apt O O O'),\n",
       " ('یه متخصص کلیه در ارومیه می\\u200cخوام که تو درمان نارسایی کلیه مهارت داشته باشه و هفته بعد نوبت بده .',\n",
       "  'O B-srt B-spy O B-cty O O O O B-cnd I-cnd B-trt O O O B-apt I-apt O O O'),\n",
       " ('لطفاً یه دکتر متخصص غدد توی بروجرد برام پیدا کنید که تو کارش خبره باشه و سریع نوبت بده .',\n",
       "  'O O O B-srt B-spy O B-cty O O O O O O B-trt O O B-apt O O O'),\n",
       " ('یه دکتر مغز و اعصاب توی ساری می\\u200cخوام که در درمان صرع تخصص داشته باشه و سه روز دیگه نوبت بده .',\n",
       "  'O O B-spy O B-spy O B-cty O O O O B-cnd O O O O B-apt I-apt O O O O'),\n",
       " ('توی زنجان دنبال یک متخصص ارتوپدی می\\u200cگردم که تجربه زیادی داشته باشه و نوبت برای آخر هفته بده .',\n",
       "  'O B-cty O O B-srt B-spy O O B-trt I-trt O O O O O B-apt I-apt O O'),\n",
       " ('یه متخصص روماتولوژی در کاشان نیاز دارم که کارش عالی باشه و برای دو هفته بعد نوبت بده .',\n",
       "  'O B-srt B-spy O B-cty O O O O B-trt O O O B-apt I-apt O O O O'),\n",
       " ('سلام ،توی قزوین یه متخصص تغذیه لازم دارم که برای کاهش وزن مشاوره بده و ماه آینده وقت داشته باشه .',\n",
       "  'O OO B-cty O B-srt B-spy O O O O B-cnd I-cnd O O O B-apt I-apt O O O O'),\n",
       " ('یه متخصص غدد در اردبیل می\\u200cخوام که توی خیابان امام مطب داشته باشه و سریع نوبت بده .',\n",
       "  'O B-srt B-spy O B-cty O O O B-nhd I-nhd O O O O B-apt O O O'),\n",
       " ('لطفاً یه متخصص اطفال تو خرم آباد برام پیدا کنید که تجربه کافی در درمان کودکان بیمار داشته باشه و فردا نوبت بده .',\n",
       "  'O O B-srt B-spy O B-cty I-cty O O O O B-trt I-trt O O B-cnd I-cnd O O O B-apt O O O'),\n",
       " ('تو بجنورد دنبال یه متخصص زنان هستم که برای بارداری مشاوره بده و نوبت برای هفته آینده داشته باشه .',\n",
       "  'O B-cty O O B-srt B-spy O O O B-cnd O O O O O B-apt I-apt O O O'),\n",
       " ('یه دکتر چشم پزشک تو یزد می\\u200cخوام که تجربه زیادی در جراحی چشم داشته باشه و برای آخر هفته نوبت بده .',\n",
       "  'O O B-spy O O B-cty O O B-trt I-trt O B-cnd I-cnd O O O O B-apt I-apt O O O'),\n",
       " ('داخل زاهدان دنبال یک متخصص گوش و حلق و بینی می\\u200cگردم که دو هفته بعد نوبت بده .',\n",
       "  'O B-cty O O B-srt B-spy O B-spy O B-spy O O B-apt I-apt O O O O'),\n",
       " ('نیاز به یه فوق متخصص پوست و مو توی کرمان دارم که توی خیابان مطهری مطب داشته باشه و فردا عصر نوبت بده .',\n",
       "  'O O O B-srt I-srt B-spy O B-spy O B-cty O O O B-nhd I-nhd O O O O B-apt I-apt O O O'),\n",
       " ('سلام ،یه دکتر فلوشیپ زنان در اردکان می\\u200cخوام که تو درمان نازایی مهارت داشته باشه و ماه بعد وقت بده .',\n",
       "  'O OO O B-srt O O B-cty O O O O B-cnd O O O O B-apt I-apt O O O'),\n",
       " ('توی سنندج دنبال یه فلوشیپ ریه می\\u200cگردم که مهارت کافی در درمان عفونت\\u200cهای شدید داشته باشه و هفته آینده نوبت بده .',\n",
       "  'O B-cty O O B-srt B-spy O O B-trt I-trt O O B-cnd I-cnd O O O B-apt I-apt O O O'),\n",
       " ('سلام ،یه متخصص اعصاب و روان تو شهرکرد می\\u200cخوام که خیلی حرفه\\u200cای باشه و ماه بعد نوبت بده .',\n",
       "  'O OO B-srt B-spy O B-spy O B-cty O O O B-trt O O B-apt I-apt O O O'),\n",
       " ('یه دکتر فوق تخصص قلب و عروق تو بوشهر لازم دارم که نوبت برای دو روز دیگه بده .',\n",
       "  'O O B-srt I-srt B-spy O B-spy O B-cty O O O O O B-apt I-apt O O O')]"
      ]
     },
     "execution_count": 36,
     "metadata": {},
     "output_type": "execute_result"
    }
   ],
   "source": [
    "datas"
   ]
  },
  {
   "cell_type": "code",
   "execution_count": 37,
   "id": "2f5524d8-f3b2-479c-bc22-2b9f412cb01b",
   "metadata": {},
   "outputs": [],
   "source": [
    "df = pd.DataFrame(datas, columns=['sentence', 'label'])"
   ]
  },
  {
   "cell_type": "code",
   "execution_count": 39,
   "id": "e71bdd78-3075-47da-92b1-8256f0b18363",
   "metadata": {},
   "outputs": [],
   "source": [
    "df.to_csv('chatgpt_data_generated.csv')"
   ]
  },
  {
   "cell_type": "code",
   "execution_count": 40,
   "id": "22b04857-af0e-4ea2-ac79-7905f23fe075",
   "metadata": {},
   "outputs": [
    {
     "name": "stdout",
     "output_type": "stream",
     "text": [
      "گزبرخوار\n"
     ]
    }
   ],
   "source": [
    "print('گزبرخوار')"
   ]
  },
  {
   "cell_type": "code",
   "execution_count": null,
   "id": "7934f7bb-e1f8-4603-8a21-7afff591662d",
   "metadata": {},
   "outputs": [],
   "source": []
  }
 ],
 "metadata": {
  "kernelspec": {
   "display_name": "Python 3 (ipykernel)",
   "language": "python",
   "name": "python3"
  },
  "language_info": {
   "codemirror_mode": {
    "name": "ipython",
    "version": 3
   },
   "file_extension": ".py",
   "mimetype": "text/x-python",
   "name": "python",
   "nbconvert_exporter": "python",
   "pygments_lexer": "ipython3",
   "version": "3.12.4"
  }
 },
 "nbformat": 4,
 "nbformat_minor": 5
}
